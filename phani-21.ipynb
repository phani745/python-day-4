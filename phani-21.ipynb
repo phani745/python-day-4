{
 "cells": [
  {
   "cell_type": "markdown",
   "metadata": {},
   "source": [
    "# markdown basics\n",
    "## markdown basics\n",
    "### markdown basics\n",
    "#### markdown basics\n",
    "##### markdown basics\n",
    "###### markdown basics\n",
    "- point1 (bold)\n",
    "- point2 (itallic)\n",
    "- point3 (bold and itallic)\n",
    "- normal text\n",
    "  - sublist 1\n",
    "  - sublist2"
   ]
  },
  {
   "cell_type": "markdown",
   "metadata": {},
   "source": [
    "\n"
   ]
  },
  {
   "cell_type": "code",
   "execution_count": 1,
   "metadata": {},
   "outputs": [
    {
     "name": "stdout",
     "output_type": "stream",
     "text": [
      "Hello, Gitam\n"
     ]
    }
   ],
   "source": [
    "print(\"Hello, Gitam\")"
   ]
  },
  {
   "cell_type": "code",
   "execution_count": 2,
   "metadata": {},
   "outputs": [
    {
     "name": "stdout",
     "output_type": "stream",
     "text": [
      "Hello, Gitam\n",
      "Hyderabad\n"
     ]
    }
   ],
   "source": [
    "print(\"Hello, Gitam\")\n",
    "print(\"Hyderabad\")"
   ]
  },
  {
   "cell_type": "code",
   "execution_count": 3,
   "metadata": {},
   "outputs": [
    {
     "name": "stdout",
     "output_type": "stream",
     "text": [
      "Hello, Gitam  |||  Hyderabad ||| Python Programming\n"
     ]
    }
   ],
   "source": [
    "print(\"Hello, Gitam\", \" ||| \",end = \" \")\n",
    "print(\"Hyderabad\",end=\" ||| \")\n",
    "print(\"Python Programming\")"
   ]
  },
  {
   "cell_type": "code",
   "execution_count": 4,
   "metadata": {},
   "outputs": [
    {
     "name": "stdout",
     "output_type": "stream",
     "text": [
      "100\n",
      "20 20 20\n",
      "111 222 333\n"
     ]
    }
   ],
   "source": [
    "n1 = 100 # single Variable Assignment\n",
    "a = b = c = 20 # Multi Variable Assignment of the same value\n",
    "a1,b1,c1 = 111,222,333 # Multi Variable Assignment with different values\n",
    "print(n1)\n",
    "print(a,b,c)\n",
    "print(a1,b1,c1)"
   ]
  },
  {
   "cell_type": "code",
   "execution_count": 5,
   "metadata": {},
   "outputs": [
    {
     "name": "stdout",
     "output_type": "stream",
     "text": [
      "100 Python P 10.2\n",
      "<class 'int'> <class 'str'> <class 'str'> <class 'float'>\n"
     ]
    }
   ],
   "source": [
    "a = 100;\n",
    "s1 = \"Python\"\n",
    "s2 = 'P'\n",
    "f1 = 10.2\n",
    "print(a,s1,s2,f1)\n",
    "print(type(a),type(s1),type(s2),type(f1))"
   ]
  },
  {
   "cell_type": "code",
   "execution_count": 6,
   "metadata": {},
   "outputs": [
    {
     "name": "stdout",
     "output_type": "stream",
     "text": [
      "<class 'int'>\n",
      "<class 'str'>\n",
      "<class 'float'>\n"
     ]
    }
   ],
   "source": [
    "i = 100\n",
    "print(type(i))\n",
    "s1 = str(i) # str() converts the input into string type\n",
    "print(type(s1))\n",
    "f1 = float(i) # float() converts the input into float type\n",
    "print(type(f1))"
   ]
  },
  {
   "cell_type": "code",
   "execution_count": 7,
   "metadata": {},
   "outputs": [
    {
     "name": "stdout",
     "output_type": "stream",
     "text": [
      "<class 'str'>\n",
      "<class 'int'>\n",
      "<class 'int'>\n",
      "1\n"
     ]
    }
   ],
   "source": [
    "s1 = \"100\"\n",
    "print(type(s1))\n",
    "a = int(s1)\n",
    "print(type(a))\n",
    "f = 1.5\n",
    "a1 = int(f)\n",
    "print(type(a1))\n",
    "print(a1)"
   ]
  },
  {
   "cell_type": "code",
   "execution_count": 8,
   "metadata": {},
   "outputs": [
    {
     "name": "stdout",
     "output_type": "stream",
     "text": [
      "4\n"
     ]
    }
   ],
   "source": [
    "# A number is given 1234 -\n",
    "# Digit count\n",
    "a1 = 1234\n",
    "print(len(str(a1)))"
   ]
  },
  {
   "cell_type": "code",
   "execution_count": 9,
   "metadata": {},
   "outputs": [
    {
     "name": "stdout",
     "output_type": "stream",
     "text": [
      "Enter your namephani\n",
      "phani\n",
      "<class 'str'>\n"
     ]
    }
   ],
   "source": [
    "s1 = input(\"Enter your name\")\n",
    "print(s1)\n",
    "print(type(s1))"
   ]
  },
  {
   "cell_type": "code",
   "execution_count": 10,
   "metadata": {},
   "outputs": [
    {
     "name": "stdout",
     "output_type": "stream",
     "text": [
      "Enter a number21\n",
      "21 <class 'int'>\n"
     ]
    }
   ],
   "source": [
    "# Want a number as a input\n",
    "n1 = int(input(\"Enter a number\"))\n",
    "print(n1,type(n1))"
   ]
  },
  {
   "cell_type": "code",
   "execution_count": 11,
   "metadata": {},
   "outputs": [
    {
     "name": "stdout",
     "output_type": "stream",
     "text": [
      "1244\n",
      "1224\n",
      "12340\n",
      "123.4\n",
      "4\n",
      "123\n",
      "8187505353567209228244052427776\n"
     ]
    }
   ],
   "source": [
    "n1 = 1234\n",
    "print(n1+10)\n",
    "print(n1-10)\n",
    "print(n1*10)\n",
    "print(n1/10)\n",
    "print(n1%10)\n",
    "print(n1//10)\n",
    "print(n1**10)"
   ]
  },
  {
   "cell_type": "code",
   "execution_count": 12,
   "metadata": {},
   "outputs": [
    {
     "name": "stdout",
     "output_type": "stream",
     "text": [
      "8.0\n"
     ]
    }
   ],
   "source": [
    "x = 1 + 2 ** 3 / 4 + 5 \n",
    "print(x)"
   ]
  },
  {
   "cell_type": "code",
   "execution_count": 13,
   "metadata": {},
   "outputs": [
    {
     "name": "stdout",
     "output_type": "stream",
     "text": [
      "11.0\n"
     ]
    }
   ],
   "source": [
    "x = 1 + 2 ** 3 / 4 * 5 \n",
    "print(x)"
   ]
  },
  {
   "cell_type": "code",
   "execution_count": 14,
   "metadata": {},
   "outputs": [
    {
     "name": "stdout",
     "output_type": "stream",
     "text": [
      "False\n"
     ]
    }
   ],
   "source": [
    "x = 10\n",
    "a1 = x > 15\n",
    "print(a1)"
   ]
  },
  {
   "cell_type": "code",
   "execution_count": 15,
   "metadata": {},
   "outputs": [
    {
     "name": "stdout",
     "output_type": "stream",
     "text": [
      "True\n",
      "False\n"
     ]
    }
   ],
   "source": [
    "i = 100\n",
    "a1 = (i > 15) and (i < 800)\n",
    "a2 = (i > 15) and (i > 800)\n",
    "print(a1)\n",
    "print(a2)"
   ]
  },
  {
   "cell_type": "code",
   "execution_count": 16,
   "metadata": {},
   "outputs": [
    {
     "name": "stdout",
     "output_type": "stream",
     "text": [
      "Enter a number12\n",
      "Even\n"
     ]
    }
   ],
   "source": [
    "# To check given number is even or odd\n",
    "n = int(input(\"Enter a number\"))\n",
    "if n%2 == 0:\n",
    "    print(\"Even\")\n",
    "else:\n",
    "    print(\"Odd\")"
   ]
  },
  {
   "cell_type": "code",
   "execution_count": 17,
   "metadata": {},
   "outputs": [
    {
     "name": "stdout",
     "output_type": "stream",
     "text": [
      "Enter a number6\n",
      "No\n"
     ]
    }
   ],
   "source": [
    "# To check given number is perfectly multiple of 3 and 5\n",
    "n = int(input(\"Enter a number\"))\n",
    "if n%3 == 0 and n%5 == 0:\n",
    "    print(\"Yes\")\n",
    "else:\n",
    "    print(\"No\")"
   ]
  },
  {
   "cell_type": "code",
   "execution_count": 18,
   "metadata": {},
   "outputs": [
    {
     "name": "stdout",
     "output_type": "stream",
     "text": [
      "Enter a number1\n",
      "Positive Number\n"
     ]
    }
   ],
   "source": [
    "# test given number is positive, Negative or Zero\n",
    "n = int(input(\"Enter a number\"))\n",
    "if n == 0:\n",
    "    print(\"Zero\")\n",
    "elif n>0:\n",
    "    print(\"Positive Number\")\n",
    "elif n<0:\n",
    "    print(\"Negative number\")\n",
    "    "
   ]
  },
  {
   "cell_type": "code",
   "execution_count": 19,
   "metadata": {},
   "outputs": [
    {
     "name": "stdout",
     "output_type": "stream",
     "text": [
      "Enter number 1 19\n",
      "Enter number 2 2\n",
      "Enter number 3 14\n",
      "19  is the large number \n"
     ]
    }
   ],
   "source": [
    "# Find the large number from the given 3 numbers\n",
    "a1 = int(input(\"Enter number 1 \"))\n",
    "a2 = int(input(\"Enter number 2 \"))\n",
    "a3 = int(input(\"Enter number 3 \"))\n",
    "\n",
    "if a1>a2 and a1>a3:\n",
    "    print(a1, \" is the large number \")\n",
    "elif a2>a1 and a2>a3:\n",
    "    print(a2, \" is the large number \")\n",
    "else:\n",
    "    print(a3, \" is the large number \")"
   ]
  },
  {
   "cell_type": "code",
   "execution_count": 20,
   "metadata": {},
   "outputs": [
    {
     "name": "stdout",
     "output_type": "stream",
     "text": [
      "Enter year2014\n",
      "Not a leap year\n"
     ]
    }
   ],
   "source": [
    "# Check if a year is leap year or not\n",
    "year = int(input(\"Enter year\"))\n",
    "if year%400 == 0 or (year % 100 != 0  and year % 4 == 0):\n",
    "    print(\"Leap year\")\n",
    "else:\n",
    "    print(\"Not a leap year\")"
   ]
  },
  {
   "cell_type": "code",
   "execution_count": 21,
   "metadata": {},
   "outputs": [
    {
     "name": "stdout",
     "output_type": "stream",
     "text": [
      "Gitam\n",
      "Gitam\n",
      "Gitam\n",
      "Gitam\n",
      "Gitam\n"
     ]
    }
   ],
   "source": [
    "# Need print \"Gitam\" for 5 times\n",
    "print(\"Gitam\")\n",
    "print(\"Gitam\")\n",
    "print(\"Gitam\")\n",
    "print(\"Gitam\")\n",
    "print(\"Gitam\")"
   ]
  },
  {
   "cell_type": "code",
   "execution_count": 22,
   "metadata": {},
   "outputs": [
    {
     "name": "stdout",
     "output_type": "stream",
     "text": [
      "Gitam\n",
      "Gitam\n",
      "Gitam\n",
      "Gitam\n",
      "Gitam\n"
     ]
    }
   ],
   "source": [
    "x = 0\n",
    "while x < 5 :\n",
    "    print(\"Gitam\")\n",
    "    x = x + 1"
   ]
  },
  {
   "cell_type": "code",
   "execution_count": 23,
   "metadata": {},
   "outputs": [
    {
     "name": "stdout",
     "output_type": "stream",
     "text": [
      "Enter a Number2\n",
      "1 2 "
     ]
    }
   ],
   "source": [
    "# Print N Natural numbers using while loop\n",
    "# Input - 10\n",
    "# Output - 1 2 3 ..... 10\n",
    "n = int(input(\"Enter a Number\"))\n",
    "i = 1\n",
    "while i <= n :\n",
    "    print(i,end = \" \")\n",
    "    i = i + 1"
   ]
  },
  {
   "cell_type": "code",
   "execution_count": 24,
   "metadata": {},
   "outputs": [
    {
     "name": "stdout",
     "output_type": "stream",
     "text": [
      "Enter a number 14\n",
      "56\n"
     ]
    }
   ],
   "source": [
    "# Read a Number -- n\n",
    "# Add only even numbers between 1 to n\n",
    "# Input -- 10\n",
    "# Output -- 30(2 + 4 + 6 + 8 + 10)\n",
    "n = int(input('Enter a number '))\n",
    "i = 1\n",
    "sum = 0\n",
    "while i <= n:\n",
    "    if i % 2 == 0:\n",
    "        sum =  sum + i\n",
    "    i = i + 1\n",
    "\n",
    "print(sum)"
   ]
  },
  {
   "cell_type": "code",
   "execution_count": 25,
   "metadata": {},
   "outputs": [
    {
     "name": "stdout",
     "output_type": "stream",
     "text": [
      "Enter a number 213\n",
      "3  1  2  "
     ]
    }
   ],
   "source": [
    " #Number as a Number -- 123\n",
    "# Print the digits of given number : 3 2 1\n",
    "n = int(input('Enter a number '))\n",
    "while n != 0:\n",
    "    r = n % 10\n",
    "    print(r,end = \"  \")\n",
    "    n = n // 10"
   ]
  },
  {
   "cell_type": "code",
   "execution_count": 26,
   "metadata": {},
   "outputs": [
    {
     "ename": "SyntaxError",
     "evalue": "invalid syntax (<ipython-input-26-8afe207e4e01>, line 1)",
     "output_type": "error",
     "traceback": [
      "\u001b[1;36m  File \u001b[1;32m\"<ipython-input-26-8afe207e4e01>\"\u001b[1;36m, line \u001b[1;32m1\u001b[0m\n\u001b[1;33m    def nameoftheFunction(<Parameters>):\u001b[0m\n\u001b[1;37m                          ^\u001b[0m\n\u001b[1;31mSyntaxError\u001b[0m\u001b[1;31m:\u001b[0m invalid syntax\n"
     ]
    }
   ],
   "source": [
    "def nameoftheFunction(<Parameters>):\n",
    "    Statement\n",
    "    return"
   ]
  },
  {
   "cell_type": "code",
   "execution_count": 27,
   "metadata": {},
   "outputs": [
    {
     "data": {
      "text/plain": [
       "6"
      ]
     },
     "execution_count": 27,
     "metadata": {},
     "output_type": "execute_result"
    }
   ],
   "source": [
    "# Read a number -- 1234\n",
    "# Output -- 6(2+4)\n",
    "def addEvenDigits(n):\n",
    "    sum = 0\n",
    "    while n!= 0:\n",
    "        r = n % 10\n",
    "        if r % 2 == 0:\n",
    "            sum = sum + r\n",
    "        n = n // 10    \n",
    "    return sum\n",
    "addEvenDigits(1234)"
   ]
  },
  {
   "cell_type": "code",
   "execution_count": 28,
   "metadata": {},
   "outputs": [
    {
     "data": {
      "text/plain": [
       "9"
      ]
     },
     "execution_count": 28,
     "metadata": {},
     "output_type": "execute_result"
    }
   ],
   "source": [
    "# Read a number -- 19528\n",
    "# Print the large digit print the number\n",
    "def printLarge(n):\n",
    "    large = 0\n",
    "    while n != 0:\n",
    "        r = n % 10\n",
    "        if large < r:\n",
    "            large = r\n",
    "        n = n // 10\n",
    "    return large\n",
    "printLarge(19528)"
   ]
  },
  {
   "cell_type": "code",
   "execution_count": 29,
   "metadata": {},
   "outputs": [
    {
     "data": {
      "text/plain": [
       "321"
      ]
     },
     "execution_count": 29,
     "metadata": {},
     "output_type": "execute_result"
    }
   ],
   "source": [
    "# Read a number Input\n",
    "# Output reverse of the given number\n",
    "# 123 -- 321\n",
    "def reverseNumber(n):\n",
    "    rev = 0\n",
    "    while n != 0:\n",
    "        r = n % 10\n",
    "        rev = rev * 10 + r\n",
    "        n = n // 10\n",
    "    return rev\n",
    "reverseNumber(123)"
   ]
  },
  {
   "cell_type": "code",
   "execution_count": 30,
   "metadata": {},
   "outputs": [
    {
     "name": "stdout",
     "output_type": "stream",
     "text": [
      "No\n",
      "Yes\n"
     ]
    }
   ],
   "source": [
    "# Given number is palidrome or not\n",
    "# input\n",
    "# 123 -- 321  -- No\n",
    "# 121 -- 121  -- Yes\n",
    "def isPalindrome(n):\n",
    "    rev = 0\n",
    "    buffer = n\n",
    "    while n != 0:\n",
    "        r = n % 10\n",
    "        rev = rev * 10 + r\n",
    "        n = n // 10\n",
    "    if buffer == rev:\n",
    "        return \"Yes\"\n",
    "    else:\n",
    "        return \"No\"\n",
    "\n",
    "print(isPalindrome(123))\n",
    "print(isPalindrome(121))"
   ]
  },
  {
   "cell_type": "code",
   "execution_count": 31,
   "metadata": {},
   "outputs": [
    {
     "name": "stdout",
     "output_type": "stream",
     "text": [
      "1 2 3 4 5 6 7 8 9 10 "
     ]
    }
   ],
   "source": [
    "#Function to print N Natural numbers with for loop\n",
    "def printNNaturalNumbers(n):\n",
    "    for x in range(1,n+1):\n",
    "        print(x,end=\" \")\n",
    "    return\n",
    "printNNaturalNumbers(10)"
   ]
  },
  {
   "cell_type": "code",
   "execution_count": 32,
   "metadata": {},
   "outputs": [
    {
     "name": "stdout",
     "output_type": "stream",
     "text": [
      "11 12 13 14 15 16 17 18 19 20 21 22 23 24 25 "
     ]
    }
   ],
   "source": [
    "# Function to print the numbers between two limits\n",
    "# input : 11,25 \n",
    "# Output: 11 12 13 ............. 25\n",
    "def printSeries(lb,ub):\n",
    "    for x in range(lb,ub+1):\n",
    "        print(x,end=\" \")\n",
    "    return \n",
    "printSeries(11,25)"
   ]
  },
  {
   "cell_type": "code",
   "execution_count": 33,
   "metadata": {},
   "outputs": [
    {
     "name": "stdout",
     "output_type": "stream",
     "text": [
      "100 104 108 112 116 120 124 128 132 136 140 144 148 "
     ]
    }
   ],
   "source": [
    "# Function to print alternate numbers\n",
    "# [500,520] -- 500 502 504 506 508 .... 520\n",
    "# [100,150] -- 100 104 108 112 116\n",
    "def alternateNumbers(lb,ub):\n",
    "    for x in range(lb,ub+1,4):\n",
    "        print(x,end=\" \")\n",
    "    return\n",
    "alternateNumbers(100,150)"
   ]
  },
  {
   "cell_type": "code",
   "execution_count": 34,
   "metadata": {},
   "outputs": [
    {
     "name": "stdout",
     "output_type": "stream",
     "text": [
      "10 9 8 7 6 5 4 3 2 1 "
     ]
    }
   ],
   "source": [
    "# Function to print the series in reverse\n",
    "# Input -- 1,10 \n",
    "# Output : 10 9 8 7 6 .... 1\n",
    "def reverseRange(start,end):\n",
    "    for x in range(end,start-1,-1):\n",
    "        print(x,end =\" \")\n",
    "    return\n",
    "reverseRange(1,10)"
   ]
  },
  {
   "cell_type": "code",
   "execution_count": 35,
   "metadata": {},
   "outputs": [
    {
     "name": "stdout",
     "output_type": "stream",
     "text": [
      "1 2 3 4 6 12 "
     ]
    }
   ],
   "source": [
    "# Find the factors of a given number\n",
    "# 12 -- > 1 2 3 4 6 12\n",
    "def factorsList(n):\n",
    "    for i in range(1,n+1):\n",
    "        if n % i == 0:\n",
    "            print(i,end=\" \")\n",
    "    return\n",
    "factorsList(12)"
   ]
  },
  {
   "cell_type": "code",
   "execution_count": 36,
   "metadata": {},
   "outputs": [
    {
     "data": {
      "text/plain": [
       "True"
      ]
     },
     "execution_count": 36,
     "metadata": {},
     "output_type": "execute_result"
    }
   ],
   "source": [
    "# Given number is Prime number or not\n",
    "def isPrime(n):\n",
    "    flag = True\n",
    "    for i in range(2,n//2+1):\n",
    "        if n % i == 0:\n",
    "            flag = False\n",
    "            return flag\n",
    "    return flag\n",
    "isPrime(11)"
   ]
  },
  {
   "cell_type": "code",
   "execution_count": 37,
   "metadata": {},
   "outputs": [
    {
     "name": "stdout",
     "output_type": "stream",
     "text": [
      "4\n"
     ]
    }
   ],
   "source": [
    "# Function to find Prime numbers count from 1 to N\n",
    "# 10 -- 4(2,3,5,7)\n",
    "def primeCount(n):\n",
    "    cnt = 0 \n",
    "    for a in range(2,n+1):\n",
    "        k = 0\n",
    "        for i in range(2,a//2+1):\n",
    "            if a % i == 0:\n",
    "                k = k + 1\n",
    "        if(k<=0):\n",
    "            cnt = cnt + 1\n",
    "    return cnt\n",
    "print(primeCount(10))"
   ]
  },
  {
   "cell_type": "code",
   "execution_count": 38,
   "metadata": {},
   "outputs": [
    {
     "name": "stdout",
     "output_type": "stream",
     "text": [
      "Yes\n",
      "No\n"
     ]
    }
   ],
   "source": [
    "# Individual digit factorial sum is same as original number\n",
    "# Example :-\n",
    "# 145 -- Yes (5! + 4! + 1! = 145)\n",
    "# 123 -- No  (3! + 2! + 1! = 9)\n",
    "# Strong Number\n",
    "def factorial(n):\n",
    "    fact = 1\n",
    "    for i in range(2,n+1):\n",
    "        fact *= i\n",
    "    return fact\n",
    "def digitFactSum(n):\n",
    "    sum = 0\n",
    "    buffer = n\n",
    "    while n != 0 :\n",
    "        r = n % 10\n",
    "        sum += factorial(r)\n",
    "        n = n // 10        \n",
    "    if sum == buffer:\n",
    "        return \"Yes\"\n",
    "    else:\n",
    "        return \"No\"\n",
    "    return \n",
    "print(digitFactSum(145))\n",
    "print(digitFactSum(123))"
   ]
  },
  {
   "cell_type": "code",
   "execution_count": 39,
   "metadata": {},
   "outputs": [
    {
     "data": {
      "text/plain": [
       "9"
      ]
     },
     "execution_count": 39,
     "metadata": {},
     "output_type": "execute_result"
    }
   ],
   "source": [
    "# Function to return the count of Palindrome number two limits\n",
    "# Input : 1 10 \n",
    "# Output: 9 (1,2,3,4,5,6,7,8,9)\n",
    "\n",
    "# Input : 11 100\n",
    "# output : 9(11,22,33,....,99)\n",
    "def isPalindrome(n):\n",
    "    rev = 0\n",
    "    buffer = n\n",
    "    while n!= 0:\n",
    "        r = n % 10\n",
    "        rev = rev * 10 + r\n",
    "        n = n // 10\n",
    "    if rev == buffer:\n",
    "        return True\n",
    "    else:\n",
    "        return False\n",
    "    return\n",
    "\n",
    "def countPalindrome(lb,ub):\n",
    "    cnt = 0\n",
    "    while lb != ub:\n",
    "        # Implement\n",
    "        if isPalindrome(lb) == True:\n",
    "            cnt = cnt + 1\n",
    "        lb = lb + 1\n",
    "    return cnt\n",
    "countPalindrome(1,10)"
   ]
  },
  {
   "cell_type": "code",
   "execution_count": 40,
   "metadata": {},
   "outputs": [
    {
     "name": "stdout",
     "output_type": "stream",
     "text": [
      "6 \n",
      "6 28 496 8128 \n"
     ]
    }
   ],
   "source": [
    "# Function to generate the perfect numbers in a given range\n",
    "# Perfect Number : Sum of all its factors same as original number \n",
    "# Example : 6 -- 1 2 3 (1 + 2 + 3)\n",
    "# Input : 1 10\n",
    "# Output : 6\n",
    "def factorsList(n):\n",
    "    sum = 0\n",
    "    for i in range(1,n//2+1):\n",
    "        if n % i == 0:\n",
    "            sum = sum + i        \n",
    "    return sum\n",
    "def isPerfect(n):\n",
    "    if factorsList(n) == n:\n",
    "        return True\n",
    "    return False\n",
    "def generatePerfect(lb,ub):\n",
    "    for x in range(lb,ub+1):\n",
    "        if isPerfect(x):\n",
    "            print(x,end = \" \")\n",
    "    print()\n",
    "    return\n",
    "\n",
    "generatePerfect(1,10)\n",
    "generatePerfect(1,10000)"
   ]
  },
  {
   "cell_type": "code",
   "execution_count": 41,
   "metadata": {},
   "outputs": [
    {
     "name": "stdout",
     "output_type": "stream",
     "text": [
      "Python\n",
      "<class 'str'>\n"
     ]
    }
   ],
   "source": [
    "s1 = 'Python'\n",
    "print(s1)\n",
    "print(type(s1))"
   ]
  },
  {
   "cell_type": "code",
   "execution_count": 42,
   "metadata": {},
   "outputs": [
    {
     "name": "stdout",
     "output_type": "stream",
     "text": [
      "P\n",
      "y\n",
      "n\n",
      "n\n"
     ]
    }
   ],
   "source": [
    "s1 = 'Python'\n",
    "print(s1[0]) # Access the first character\n",
    "print(s1[1]) # Access the second character\n",
    "print(s1[5]) # Last character\n",
    "print(s1[len(s1)-1]) # Access the last character"
   ]
  },
  {
   "cell_type": "code",
   "execution_count": 43,
   "metadata": {},
   "outputs": [
    {
     "name": "stdout",
     "output_type": "stream",
     "text": [
      "n\n",
      "o\n",
      "Py\n",
      "Py\n",
      "hon\n",
      "thon\n"
     ]
    }
   ],
   "source": [
    "print(s1[-1]) #Another way Access the last charcter\n",
    "print(s1[-2]) # Another wayt to access the last second character\n",
    "print(s1[0:2]) # Access the first characters\n",
    "print(s1[:2]) # Access the first characters\n",
    "print(s1[-3:]) # Last three characters\n",
    "print(s1[2:]) # From second character to last character"
   ]
  },
  {
   "cell_type": "code",
   "execution_count": 44,
   "metadata": {},
   "outputs": [
    {
     "name": "stdout",
     "output_type": "stream",
     "text": [
      "ytho\n",
      "h\n",
      "nohtyP\n",
      "no\n",
      "Pto\n",
      "Ph\n",
      "nhy\n"
     ]
    }
   ],
   "source": [
    "print(s1[1:-1]) # printing all character expect first and last\n",
    "print(s1[len(s1)//2]) # Middle of the string\n",
    "print(s1[-1::-1]) # Reverse of the string\n",
    "print(s1[-1:-3:-1]) # Access the last two characters in reverse order\n",
    "# Access the alternate characters\n",
    "print(s1[::2]) # two characters \n",
    "print(s1[::3]) # three characters\n",
    "print(s1[::-2]) # from reverese order"
   ]
  },
  {
   "cell_type": "code",
   "execution_count": 45,
   "metadata": {},
   "outputs": [
    {
     "data": {
      "text/plain": [
       "'gnimmargorP'"
      ]
     },
     "execution_count": 45,
     "metadata": {},
     "output_type": "execute_result"
    }
   ],
   "source": [
    "def reverseString(str):\n",
    "    return str[-1::-1]\n",
    "reverseString(\"Programming\")"
   ]
  },
  {
   "cell_type": "code",
   "execution_count": 46,
   "metadata": {},
   "outputs": [
    {
     "name": "stdout",
     "output_type": "stream",
     "text": [
      "False\n",
      "True\n"
     ]
    }
   ],
   "source": [
    "def isPalindrome(str):\n",
    "    if str == str[::-1]:\n",
    "        return True\n",
    "    else:\n",
    "        return False\n",
    "    return \n",
    "print(isPalindrome(\"Python\"))\n",
    "print(isPalindrome('ganag'))"
   ]
  },
  {
   "cell_type": "code",
   "execution_count": 47,
   "metadata": {},
   "outputs": [
    {
     "name": "stdout",
     "output_type": "stream",
     "text": [
      "False\n",
      "True\n"
     ]
    }
   ],
   "source": [
    "def isPalindrome(str):\n",
    "    return str == str[::-1]\n",
    "print(isPalindrome(\"Python\"))\n",
    "print(isPalindrome('ganag'))"
   ]
  },
  {
   "cell_type": "code",
   "execution_count": 48,
   "metadata": {},
   "outputs": [
    {
     "name": "stdout",
     "output_type": "stream",
     "text": [
      "P T "
     ]
    }
   ],
   "source": [
    "# Function to print the Upper case characters\n",
    "# Example:- PyThon -- P T\n",
    "# ASCII :-\n",
    "# A - Z : 65 - 90\n",
    "# a - z : 97 - 122\n",
    "# 0- 9  : 48 - 57\n",
    "# space : 32\n",
    "def printUpper(x):\n",
    "    for i in range(len(x)):\n",
    "        if ord(x[i]) >= 65 and ord(x[i]) <= 90:\n",
    "            print(x[i],end = \" \")\n",
    "    return\n",
    "printUpper(\"PyThon\")"
   ]
  },
  {
   "cell_type": "code",
   "execution_count": 49,
   "metadata": {},
   "outputs": [
    {
     "data": {
      "text/plain": [
       "65"
      ]
     },
     "execution_count": 49,
     "metadata": {},
     "output_type": "execute_result"
    }
   ],
   "source": [
    "ord('A') # It give you the equ ascii number for input character"
   ]
  },
  {
   "cell_type": "code",
   "execution_count": 50,
   "metadata": {},
   "outputs": [
    {
     "name": "stdout",
     "output_type": "stream",
     "text": [
      "SameCount\n",
      "Programming\n"
     ]
    }
   ],
   "source": [
    "# Function to print \"SameCount\" if the count of \n",
    "# Upper and lower case is same\n",
    "# Print \"Programming\" if not same\n",
    "# Example : PyThOn -- 3 P T O (Upper case) -- SameCount\n",
    "#                     3 y h n (Lower case)\n",
    "# PytHon -- P H  (2)\n",
    "#        -- y t o n (4) - Programming\n",
    "def findCount(str):\n",
    "    cntUpper = 0\n",
    "    cntLower = 0\n",
    "    for x in range(len(str)):\n",
    "        if ord(str[x]) >= 65 and ord(str[x]) <= 90:\n",
    "            cntUpper = cntUpper + 1\n",
    "        elif ord(str[x]) >= 97 and ord(str[x]) <= 122:\n",
    "            cntLower = cntLower + 1\n",
    "    if cntUpper == cntLower:\n",
    "        return \"SameCount\"\n",
    "    else:\n",
    "        return \"Programming\"\n",
    "    return\n",
    "print(findCount('PyThOn')) # SameCount\n",
    "print(findCount('PYTHon')) # Programming"
   ]
  },
  {
   "cell_type": "code",
   "execution_count": 51,
   "metadata": {},
   "outputs": [
    {
     "name": "stdout",
     "output_type": "stream",
     "text": [
      "1 8 8 9 "
     ]
    }
   ],
   "source": [
    "# Extract digits from given string\n",
    "# Example:\n",
    "# Input : Appli1cat8ion89\n",
    "# Output : 1 8 8 9\n",
    "def extractDigits(str):\n",
    "    for x in range(len(str)):\n",
    "        if ord(str[x]) >= 48  and ord(str[x]) <= 57:\n",
    "            print(str[x],end=\" \")\n",
    "    return\n",
    "extractDigits(\"Appli1cat8ion89\") # 1 8 8 9"
   ]
  },
  {
   "cell_type": "code",
   "execution_count": 52,
   "metadata": {},
   "outputs": [
    {
     "data": {
      "text/plain": [
       "26"
      ]
     },
     "execution_count": 52,
     "metadata": {},
     "output_type": "execute_result"
    }
   ],
   "source": [
    "# Function to return the sum of digits in a given string\n",
    "# Example : \n",
    "# Input : Appli1cat8ion89\n",
    "# Output: 26(1+8+8+9)\n",
    "# 0 1 2 3 4 5 ... 9\n",
    "# 48 49 50 51 52 53 ... 57\n",
    "def sumOfDigits(str):\n",
    "    sum = 0\n",
    "    for x in range(len(str)):\n",
    "        if ord(str[x]) >= 48 and ord(str[x]) <= 57:\n",
    "            sum = sum + (ord(str[x])-48)\n",
    "    return sum\n",
    "sumOfDigits('Appli1cat8ion89')"
   ]
  },
  {
   "cell_type": "code",
   "execution_count": 53,
   "metadata": {},
   "outputs": [
    {
     "data": {
      "text/plain": [
       "16"
      ]
     },
     "execution_count": 53,
     "metadata": {},
     "output_type": "execute_result"
    }
   ],
   "source": [
    "# Function to return the sum of digits in a given string\n",
    "# Example : \n",
    "# Input : Appli1cat8ion89\n",
    "# Output: 16(8+8)\n",
    "def sumOfEvenDigits(str):\n",
    "    sum = 0\n",
    "    for x in range(len(str)):\n",
    "        if ord(str[x]) >= 48 and ord(str[x]) <= 57:\n",
    "            if (ord(str[x])-48) % 2 == 0:\n",
    "                sum = sum + (ord(str[x])-48)            \n",
    "    return sum\n",
    "sumOfEvenDigits('Appli1cat8ion89')"
   ]
  },
  {
   "cell_type": "code",
   "execution_count": 54,
   "metadata": {},
   "outputs": [
    {
     "name": "stdout",
     "output_type": "stream",
     "text": [
      "MADE"
     ]
    }
   ],
   "source": [
    "# Function to print the Specific Word in Upper case\n",
    "# Example:\n",
    "# Input : Python Made Easy\n",
    "# Output : MADE\n",
    "# Input : Learn Python Programming\n",
    "# Output : PYTHON\n",
    "def wordUpperCase(s):\n",
    "    spaceCnt = 0\n",
    "    for x in range(len(s)):        \n",
    "        if ord(s[x]) == 32:\n",
    "            spaceCnt += 1 # spaceCnt = spaceCnt + 1           \n",
    "        if spaceCnt == 1:\n",
    "            if ord(s[x]) >= 65 and ord(s[x]) <= 90:\n",
    "                print(s[x],end=\"\")\n",
    "            elif ord(s[x]) >= 97 and ord(s[x]) <= 122 :\n",
    "                print(chr(ord(s[x])-32),end=\"\")\n",
    "        if spaceCnt == 2:\n",
    "            break\n",
    "    return\n",
    "wordUpperCase('Python Made Easy') # MADE"
   ]
  },
  {
   "cell_type": "markdown",
   "metadata": {},
   "source": [
    "## Python Data Structures\n",
    "### Lists\n",
    "- It's one of common data structures supports by Python, the list items are seperated by comma operator and enclosed in square brackets\n",
    "- Example:\n",
    "   - list1 = [1,6,2,18,9]\n",
    "    - list2 = [\"Gitam\",10,12,15.5,\"Hyderabad\"]"
   ]
  },
  {
   "cell_type": "code",
   "execution_count": 55,
   "metadata": {},
   "outputs": [
    {
     "name": "stdout",
     "output_type": "stream",
     "text": [
      "[1, 8, 16, 9, 2]\n",
      "1\n",
      "8\n",
      "2\n",
      "9\n",
      "[8, 16, 9, 2]\n",
      "[8, 16, 9]\n"
     ]
    }
   ],
   "source": [
    "lst = [1,8,16,9,2]\n",
    "print(lst) # Access the entire list\n",
    "print(lst[0]) # Access the first item list\n",
    "print(lst[1]) # Access the second item list\n",
    "print(lst[-1]) # Access the Last item list\n",
    "print(lst[-2])\n",
    "print(lst[1:])\n",
    "print(lst[1:4])\n"
   ]
  },
  {
   "cell_type": "code",
   "execution_count": 56,
   "metadata": {},
   "outputs": [
    {
     "name": "stdout",
     "output_type": "stream",
     "text": [
      "['Gitam', 'Python', 1989, 2002]\n",
      "['Gitam', 'Python', 2019, 2002]\n"
     ]
    }
   ],
   "source": [
    "# Update the list item values using index (Direct Referncing)\n",
    "li = [\"Gitam\",\"Python\",1989,2002]\n",
    "print(li)\n",
    "li[2] = 2019\n",
    "print(li)"
   ]
  },
  {
   "cell_type": "code",
   "execution_count": 57,
   "metadata": {},
   "outputs": [
    {
     "name": "stdout",
     "output_type": "stream",
     "text": [
      "['Gitam', 'Python', 2019, 2002]\n",
      "['Gitam', 'Python', 2002]\n"
     ]
    }
   ],
   "source": [
    "# delete the specific item in the list\n",
    "print(li)\n",
    "del li[2]\n",
    "print(li)"
   ]
  },
  {
   "cell_type": "code",
   "execution_count": 58,
   "metadata": {},
   "outputs": [
    {
     "name": "stdout",
     "output_type": "stream",
     "text": [
      "5\n",
      "[1, 9, 6, 18, 2, 1, 9, 6, 18, 2]\n",
      "5\n",
      "True\n",
      "False\n",
      "1 9 6 18 2 "
     ]
    }
   ],
   "source": [
    "# Basic List Operations\n",
    "lst1 = [1,9,6,18,2]\n",
    "print(len(lst1)) # len of the list\n",
    "print(lst1 * 2) # Repetation\n",
    "print(len(lst1)) \n",
    "print(9 in lst1) # list item is present or not\n",
    "print(15 in lst1)\n",
    "# Access the list items using iteration\n",
    "for x in range(len(lst1)):\n",
    "    print(lst1[x],end=' ')"
   ]
  },
  {
   "cell_type": "code",
   "execution_count": 59,
   "metadata": {},
   "outputs": [
    {
     "name": "stdout",
     "output_type": "stream",
     "text": [
      "1\n",
      "18\n"
     ]
    },
    {
     "ename": "TypeError",
     "evalue": "'int' object is not callable",
     "output_type": "error",
     "traceback": [
      "\u001b[1;31m---------------------------------------------------------------------------\u001b[0m",
      "\u001b[1;31mTypeError\u001b[0m                                 Traceback (most recent call last)",
      "\u001b[1;32m<ipython-input-59-bf82ab034325>\u001b[0m in \u001b[0;36m<module>\u001b[1;34m\u001b[0m\n\u001b[0;32m      3\u001b[0m \u001b[0mprint\u001b[0m\u001b[1;33m(\u001b[0m\u001b[0mmin\u001b[0m\u001b[1;33m(\u001b[0m\u001b[0mlst1\u001b[0m\u001b[1;33m)\u001b[0m\u001b[1;33m)\u001b[0m \u001b[1;31m# Min item/element of the list\u001b[0m\u001b[1;33m\u001b[0m\u001b[1;33m\u001b[0m\u001b[0m\n\u001b[0;32m      4\u001b[0m \u001b[0mprint\u001b[0m\u001b[1;33m(\u001b[0m\u001b[0mmax\u001b[0m\u001b[1;33m(\u001b[0m\u001b[0mlst1\u001b[0m\u001b[1;33m)\u001b[0m\u001b[1;33m)\u001b[0m \u001b[1;31m# Max element of the list\u001b[0m\u001b[1;33m\u001b[0m\u001b[1;33m\u001b[0m\u001b[0m\n\u001b[1;32m----> 5\u001b[1;33m \u001b[0mprint\u001b[0m\u001b[1;33m(\u001b[0m\u001b[0msum\u001b[0m\u001b[1;33m(\u001b[0m\u001b[0mlst1\u001b[0m\u001b[1;33m)\u001b[0m\u001b[1;33m)\u001b[0m \u001b[1;31m# sum of the all elememts of the list\u001b[0m\u001b[1;33m\u001b[0m\u001b[1;33m\u001b[0m\u001b[0m\n\u001b[0m\u001b[0;32m      6\u001b[0m \u001b[0mprint\u001b[0m\u001b[1;33m(\u001b[0m\u001b[0msum\u001b[0m\u001b[1;33m(\u001b[0m\u001b[0mlst1\u001b[0m\u001b[1;33m)\u001b[0m\u001b[1;33m//\u001b[0m\u001b[0mlen\u001b[0m\u001b[1;33m(\u001b[0m\u001b[0mlst1\u001b[0m\u001b[1;33m)\u001b[0m\u001b[1;33m)\u001b[0m \u001b[1;31m# Average of list elements\u001b[0m\u001b[1;33m\u001b[0m\u001b[1;33m\u001b[0m\u001b[0m\n\u001b[0;32m      7\u001b[0m \u001b[0mprint\u001b[0m\u001b[1;33m(\u001b[0m\u001b[0msum\u001b[0m\u001b[1;33m(\u001b[0m\u001b[0mlst1\u001b[0m\u001b[1;33m[\u001b[0m\u001b[1;36m1\u001b[0m\u001b[1;33m:\u001b[0m\u001b[1;33m:\u001b[0m\u001b[1;36m2\u001b[0m\u001b[1;33m]\u001b[0m\u001b[1;33m)\u001b[0m\u001b[1;33m/\u001b[0m\u001b[0mlen\u001b[0m\u001b[1;33m(\u001b[0m\u001b[0mlst1\u001b[0m\u001b[1;33m[\u001b[0m\u001b[1;36m1\u001b[0m\u001b[1;33m:\u001b[0m\u001b[1;33m:\u001b[0m\u001b[1;36m2\u001b[0m\u001b[1;33m]\u001b[0m\u001b[1;33m)\u001b[0m\u001b[1;33m)\u001b[0m \u001b[1;31m# Average of all the alternate elements\u001b[0m\u001b[1;33m\u001b[0m\u001b[1;33m\u001b[0m\u001b[0m\n",
      "\u001b[1;31mTypeError\u001b[0m: 'int' object is not callable"
     ]
    }
   ],
   "source": [
    "# Function of the list\n",
    "lst1\n",
    "print(min(lst1)) # Min item/element of the list\n",
    "print(max(lst1)) # Max element of the list\n",
    "print(sum(lst1)) # sum of the all elememts of the list\n",
    "print(sum(lst1)//len(lst1)) # Average of list elements\n",
    "print(sum(lst1[1::2])/len(lst1[1::2])) # Average of all the alternate elements"
   ]
  },
  {
   "cell_type": "code",
   "execution_count": 60,
   "metadata": {},
   "outputs": [
    {
     "data": {
      "text/plain": [
       "[45, 23, 24, 18, 9, 6, 1]"
      ]
     },
     "execution_count": 60,
     "metadata": {},
     "output_type": "execute_result"
    }
   ],
   "source": [
    "# Methods of List Object\n",
    "lst1\n",
    "lst1.append(24) # Adding a new element at the end of the list\n",
    "lst1\n",
    "lst1.insert(2,56) # Adding an element at particular index\n",
    "lst1\n",
    "lst1.count(18) # return the value how many times the object repeated\n",
    "lst1.index(56)\n",
    "lst1.sort() # It's sort the list in ascending order\n",
    "lst1\n",
    "lst1.pop() # remove the last element from the list\n",
    "lst1\n",
    "lst1.pop(1) # Remove an element from a particular index\n",
    "lst2 = [123,23,45]\n",
    "lst1.extend(lst2) # Merge the list2 into list1\n",
    "lst1.reverse() # reverse the list\n",
    "lst1.remove(123) # remove the element from the list\n",
    "lst1"
   ]
  },
  {
   "cell_type": "code",
   "execution_count": 61,
   "metadata": {},
   "outputs": [
    {
     "name": "stdout",
     "output_type": "stream",
     "text": [
      "[3, 2]\n"
     ]
    }
   ],
   "source": [
    "li = [1,9,8,2,6,3]\n",
    "print(li[-1:2:-2])"
   ]
  },
  {
   "cell_type": "code",
   "execution_count": 62,
   "metadata": {},
   "outputs": [
    {
     "data": {
      "text/plain": [
       "6"
      ]
     },
     "execution_count": 62,
     "metadata": {},
     "output_type": "execute_result"
    }
   ],
   "source": [
    "# Function to find the second large item from the list\n",
    "# Input  :   [1,19,6,2,8,18,3]\n",
    "# Output :   18\n",
    "def secondLarge(li):\n",
    "    li.sort()\n",
    "    return li[-2]\n",
    "def genericLarge(li,n):\n",
    "    li.sort()\n",
    "    return li[-n]\n",
    "li = [1,19,6,2,8,18,3]\n",
    "genericLarge(li,4)"
   ]
  },
  {
   "cell_type": "code",
   "execution_count": 63,
   "metadata": {},
   "outputs": [
    {
     "data": {
      "text/plain": [
       "6"
      ]
     },
     "execution_count": 63,
     "metadata": {},
     "output_type": "execute_result"
    }
   ],
   "source": [
    "# Function to find the least item from the list\n",
    "# Input  :   [1,19,6,2,8,18,3]\n",
    "# Output :   2 \n",
    "def secondLeast(li):\n",
    "    li.sort()\n",
    "    return li[1]\n",
    "def genericLeast(li,n):\n",
    "    li.sort()\n",
    "    return li[n-1]\n",
    "li = [1,19,6,2,8,18,3]\n",
    "genericLeast(li,4)"
   ]
  },
  {
   "cell_type": "markdown",
   "metadata": {},
   "source": [
    "## Searching Algorithms\n",
    "- Linear Search\n",
    "- Binary Search\n",
    "### Linear Search\n",
    "- Linear Search Algorithm can be applied on Duplicate and Unique List\n",
    "    - Unique List : The all item of the list is appeared only one\n",
    "    - Duplicate List : The items of the list can be appeared more than once\n",
    "- Linear Search Algorithm can be applied on Sorted list or Unsorted List"
   ]
  },
  {
   "cell_type": "code",
   "execution_count": 64,
   "metadata": {},
   "outputs": [
    {
     "data": {
      "text/plain": [
       "-1"
      ]
     },
     "execution_count": 64,
     "metadata": {},
     "output_type": "execute_result"
    }
   ],
   "source": [
    "# Function to search the data in a list\n",
    "# Search is found then return the index if not return -1\n",
    "def linearSearch1(li,tarItem):\n",
    "    for x in range(len(li)):\n",
    "        if li[x] == tarItem:\n",
    "            return x\n",
    "    return -1\n",
    "li = [1,19,6,2,8,18,3]\n",
    "linearSearch1(li,225)"
   ]
  },
  {
   "cell_type": "code",
   "execution_count": 65,
   "metadata": {},
   "outputs": [
    {
     "name": "stdout",
     "output_type": "stream",
     "text": [
      "1 4 8 "
     ]
    }
   ],
   "source": [
    "# Function \n",
    "# Input : [1,5,9,6,5,15,1,2,5],key=5 # Duplicate\n",
    "# Output : 1 4 8\n",
    "def linearSearch2(li,tarItem):\n",
    "    for x in range(len(li)):\n",
    "        if li[x] == tarItem:\n",
    "            print(x,end=\" \")\n",
    "    return\n",
    "li = [1,5,9,6,5,15,1,2,5]\n",
    "linearSearch2(li,5) # 1 4 8"
   ]
  },
  {
   "cell_type": "code",
   "execution_count": 66,
   "metadata": {},
   "outputs": [
    {
     "name": "stdout",
     "output_type": "stream",
     "text": [
      "!! !!!!! !!!!!!!!! "
     ]
    }
   ],
   "source": [
    "# Fuction \n",
    "# Input : List\n",
    "# Ouput : Seq of characters\n",
    "# Test case\n",
    "# [1,5,9,6,5,15,1,2,5],tar=5 -- !! !!!!! !!!!!!!!!\n",
    "def linearSearch3(li,tarItem):\n",
    "    # Implement the logic\n",
    "    for x in range(len(li)):\n",
    "        if li[x] == tarItem:\n",
    "            j = 0\n",
    "            while j != x+1:\n",
    "                print(\"!\",end=\"\")\n",
    "                j = j + 1\n",
    "            print(end=\" \")\n",
    "    return\n",
    "li = [1,5,9,6,5,15,1,2,5]\n",
    "linearSearch3(li,5) # !! !!!!! !!!!!!!!!"
   ]
  },
  {
   "cell_type": "code",
   "execution_count": 67,
   "metadata": {},
   "outputs": [
    {
     "data": {
      "text/plain": [
       "60"
      ]
     },
     "execution_count": 67,
     "metadata": {},
     "output_type": "execute_result"
    }
   ],
   "source": [
    "# Function\n",
    "# Input : List\n",
    "# Output : Formatted\n",
    "# Test case:\n",
    "# [12,2,45,9,18,15,36] -- 60\n",
    "# A list item which is perfectly multiple of 3 and 5\n",
    "def linearSearch4(li):\n",
    "    sum = 0\n",
    "    for x in range(len(li)):\n",
    "        if li[x] % 3 == 0 and li[x] % 5 == 0:\n",
    "            sum += li[x] # sum = sum + li[x]\n",
    "    return sum\n",
    "li = [12,2,45,9,18,15,36]\n",
    "linearSearch4(li) # 60"
   ]
  },
  {
   "cell_type": "code",
   "execution_count": 68,
   "metadata": {},
   "outputs": [
    {
     "name": "stdout",
     "output_type": "stream",
     "text": [
      "1 3 8 15 5 "
     ]
    }
   ],
   "source": [
    "# Function\n",
    "# Input  : List\n",
    "# Output : Formatted Output\n",
    "# Test Case :\n",
    "# [1,2,3,4,5] -- [1,3,8,15,5]\n",
    "# [6,5,2,8,2] -- [6,12,40,4,2]\n",
    "def linearSearch5(li):\n",
    "    for x in range(len(li)):\n",
    "        if x == 0 or x == len(li) - 1:\n",
    "            print(li[x],end=\" \")\n",
    "        else:\n",
    "            print(li[x-1]*li[x+1],end=\" \")\n",
    "    return\n",
    "li = [1,2,3,4,5]\n",
    "linearSearch5(li)"
   ]
  },
  {
   "cell_type": "code",
   "execution_count": 69,
   "metadata": {},
   "outputs": [
    {
     "name": "stdout",
     "output_type": "stream",
     "text": [
      "1 9 19 22 "
     ]
    }
   ],
   "source": [
    "# Function\n",
    "# Input  : List\n",
    "# Output : Formatted Output\n",
    "# Test cases:\n",
    "# [1,6,9,4,16,19,22] -- 1 9 19 22\n",
    "def linearSearch6(li):\n",
    "    # Implement the logic\n",
    "    for x in range(len(li)):\n",
    "        if x == 0 or x == len(li) - 1:\n",
    "            print(li[x],end=\" \")\n",
    "        elif li[x-1] % 2 == 0 and li[x+1] % 2 == 0:\n",
    "            print(li[x],end=\" \")\n",
    "    return\n",
    "li = [1,6,9,4,16,19,22]\n",
    "linearSearch6(li) #  1 9 19 22"
   ]
  },
  {
   "cell_type": "code",
   "execution_count": 70,
   "metadata": {},
   "outputs": [
    {
     "data": {
      "text/plain": [
       "[1, 4, 5, 6, 9]"
      ]
     },
     "execution_count": 70,
     "metadata": {},
     "output_type": "execute_result"
    }
   ],
   "source": [
    "# Function for Converstion - Number to List\n",
    "# Input  -- Number\n",
    "# Output -- list\n",
    "# Test Cases:-\n",
    "# 14569 -- [1,4,5,6,9]\n",
    "# 1990  -- [1,9,9,0]\n",
    "def numberListConversion(n):\n",
    "    li = []\n",
    "    while n != 0:\n",
    "        r = n % 10\n",
    "        li.append(r)\n",
    "        n = n // 10\n",
    "    li.reverse()\n",
    "    return li\n",
    "numberListConversion(14569)#[1,4,5,6,9]\n"
   ]
  },
  {
   "cell_type": "code",
   "execution_count": 71,
   "metadata": {},
   "outputs": [
    {
     "data": {
      "text/plain": [
       "2"
      ]
     },
     "execution_count": 71,
     "metadata": {},
     "output_type": "execute_result"
    }
   ],
   "source": [
    "# Function to count the occurances of a character in a string\n",
    "# \"Python Programming\", P -> 2\n",
    "# \"Python Programming\", m -> 2\n",
    "def countCharOccurances(s,c):\n",
    "    cnt = 0\n",
    "    for ch in s:\n",
    "        if ch == c:\n",
    "            cnt += 1\n",
    "    return cnt\n",
    "def countCharOccurances1(s,c):\n",
    "    return s.count(c)\n",
    "countCharOccurances1(\"Python Programming\",'m')"
   ]
  },
  {
   "cell_type": "code",
   "execution_count": 72,
   "metadata": {},
   "outputs": [
    {
     "data": {
      "text/plain": [
       "[1, 2, 3, 4, 5, 6]"
      ]
     },
     "execution_count": 72,
     "metadata": {},
     "output_type": "execute_result"
    }
   ],
   "source": [
    "#Function to convert the string to list\n",
    "# Test Case\n",
    "# \"1 2 3 4 5 6\" -- [1,2,3,4,5,6]\n",
    "def strintToListConversion(s):\n",
    "    li = s.split()\n",
    "    numberslist = []\n",
    "    for i in li:\n",
    "        numberslist.append(int(i))\n",
    "    return numberslist\n",
    "s = \"1 2 3 4 5 6\"\n",
    "strintToListConversion(s) # [1,2,3,4,5,6]"
   ]
  },
  {
   "cell_type": "code",
   "execution_count": 73,
   "metadata": {},
   "outputs": [
    {
     "data": {
      "text/plain": [
       "[1, 3, 6, 18, 19, 25]"
      ]
     },
     "execution_count": 73,
     "metadata": {},
     "output_type": "execute_result"
    }
   ],
   "source": [
    "# Function to represent tht Bubble sort\n",
    "def bubbleSort(li):\n",
    "    for i in range(len(li)-1):\n",
    "        for j in range(len(li)-1):\n",
    "            if li[j] > li[j+1]:\n",
    "                li[j],li[j+1] = li[j+1],li[j]            \n",
    "    return li\n",
    "li = [19,1,25,6,18,3]\n",
    "bubbleSort(li)"
   ]
  },
  {
   "cell_type": "markdown",
   "metadata": {},
   "source": [
    "## Tuples\n",
    "- t1 paranthesis() li square brackets[]\n",
    "- Differences between list and tuples\n",
    "- Lists are mutable - can be changed or modified\n",
    "   - Used to access modify, Add, Delete data\n",
    "- Tuples are immutable - cannot be cahnged\n",
    "    - Used to access data only"
   ]
  },
  {
   "cell_type": "code",
   "execution_count": 74,
   "metadata": {},
   "outputs": [
    {
     "data": {
      "text/plain": [
       "tuple"
      ]
     },
     "execution_count": 74,
     "metadata": {},
     "output_type": "execute_result"
    }
   ],
   "source": [
    "t1 = (1, 2, 3, 4 ,5 ,6)\n",
    "t1\n",
    "type(t1)"
   ]
  },
  {
   "cell_type": "code",
   "execution_count": 75,
   "metadata": {},
   "outputs": [
    {
     "data": {
      "text/plain": [
       "tuple"
      ]
     },
     "execution_count": 75,
     "metadata": {},
     "output_type": "execute_result"
    }
   ],
   "source": [
    "t1 = (1, 2, 3, 4 ,5 ,6)\n",
    "t1\n",
    "type(t1)"
   ]
  },
  {
   "cell_type": "code",
   "execution_count": 76,
   "metadata": {},
   "outputs": [
    {
     "ename": "NameError",
     "evalue": "name 'd1' is not defined",
     "output_type": "error",
     "traceback": [
      "\u001b[1;31m---------------------------------------------------------------------------\u001b[0m",
      "\u001b[1;31mNameError\u001b[0m                                 Traceback (most recent call last)",
      "\u001b[1;32m<ipython-input-76-cabdcd6450de>\u001b[0m in \u001b[0;36m<module>\u001b[1;34m\u001b[0m\n\u001b[1;32m----> 1\u001b[1;33m \u001b[0md1\u001b[0m\u001b[1;33m[\u001b[0m\u001b[1;34m\"Name\"\u001b[0m\u001b[1;33m]\u001b[0m\u001b[1;33m\u001b[0m\u001b[1;33m\u001b[0m\u001b[0m\n\u001b[0m",
      "\u001b[1;31mNameError\u001b[0m: name 'd1' is not defined"
     ]
    }
   ],
   "source": [
    "d1[\"Name\"]"
   ]
  },
  {
   "cell_type": "code",
   "execution_count": 77,
   "metadata": {},
   "outputs": [
    {
     "ename": "NameError",
     "evalue": "name 'd1' is not defined",
     "output_type": "error",
     "traceback": [
      "\u001b[1;31m---------------------------------------------------------------------------\u001b[0m",
      "\u001b[1;31mNameError\u001b[0m                                 Traceback (most recent call last)",
      "\u001b[1;32m<ipython-input-77-a35cdb7ddacd>\u001b[0m in \u001b[0;36m<module>\u001b[1;34m\u001b[0m\n\u001b[1;32m----> 1\u001b[1;33m \u001b[0md1\u001b[0m\u001b[1;33m[\u001b[0m\u001b[1;34m'EmailID'\u001b[0m\u001b[1;33m]\u001b[0m \u001b[1;33m=\u001b[0m \u001b[1;34m'Gitam-python@gmail.com'\u001b[0m\u001b[1;33m\u001b[0m\u001b[1;33m\u001b[0m\u001b[0m\n\u001b[0m\u001b[0;32m      2\u001b[0m \u001b[0md1\u001b[0m\u001b[1;33m[\u001b[0m\u001b[1;34m'EmailID'\u001b[0m\u001b[1;33m]\u001b[0m\u001b[1;33m\u001b[0m\u001b[1;33m\u001b[0m\u001b[0m\n",
      "\u001b[1;31mNameError\u001b[0m: name 'd1' is not defined"
     ]
    }
   ],
   "source": [
    "d1['EmailID'] = 'Gitam-python@gmail.com'\n",
    "d1['EmailID']"
   ]
  },
  {
   "cell_type": "code",
   "execution_count": 78,
   "metadata": {},
   "outputs": [
    {
     "name": "stdout",
     "output_type": "stream",
     "text": [
      "Contact details are added\n",
      "Contact details are added\n",
      "Contact details already exist\n"
     ]
    }
   ],
   "source": [
    "# Add a contact\n",
    "contact = {} # Creating a dictionary object\n",
    "def addContact(name,phone):\n",
    "    if name not in contact:\n",
    "        contact[name] = phone\n",
    "        print(\"Contact details are added\")\n",
    "    else:\n",
    "        print(\"Contact details already exist\")\n",
    "    return\n",
    "addContact('bobby','1029384756')\n",
    "addContact(\"yash\", \"9988776655\")\n",
    "addContact('bobby','1029384756')"
   ]
  },
  {
   "cell_type": "code",
   "execution_count": 79,
   "metadata": {},
   "outputs": [
    {
     "name": "stdout",
     "output_type": "stream",
     "text": [
      "bobby  :  1029384756\n",
      "You do not exist\n",
      "yash  :  9988776655\n"
     ]
    }
   ],
   "source": [
    "#Search for contact details \n",
    "def searchContact(Name):\n",
    "    if Name in contact:\n",
    "        print(Name, \" : \", contact[Name])\n",
    "    else:\n",
    "        print(\"%s do not exist\" % Name)\n",
    "    return\n",
    "searchContact('bobby')\n",
    "searchContact('You')\n",
    "searchContact('yash')"
   ]
  },
  {
   "cell_type": "code",
   "execution_count": 80,
   "metadata": {},
   "outputs": [
    {
     "name": "stdout",
     "output_type": "stream",
     "text": [
      "2 Contacts added succesfully\n"
     ]
    }
   ],
   "source": [
    "# Import some contacts\n",
    "# Merge the contacts with the existing ones\n",
    "def importContact(newContact):\n",
    "    contact.update(newContact)\n",
    "    print(len(newContact.keys()),\"Contacts added succesfully\")\n",
    "    return\n",
    "newContact = {'Nani': 9988776655, 'vishal': 9988776655}\n",
    "importContact(newContact)"
   ]
  },
  {
   "cell_type": "code",
   "execution_count": 81,
   "metadata": {},
   "outputs": [
    {
     "name": "stdout",
     "output_type": "stream",
     "text": [
      "Dinesh does not exist\n"
     ]
    }
   ],
   "source": [
    "# Delete a contact\n",
    "def deleteContact(Name):\n",
    "    if Name in contact:\n",
    "        del contact[Name]\n",
    "        print(Name,\"deleted successfully\")\n",
    "    else:\n",
    "        print(Name, \"does not exist\")\n",
    "    return\n",
    "deleteContact('Dinesh')"
   ]
  },
  {
   "cell_type": "code",
   "execution_count": 82,
   "metadata": {},
   "outputs": [
    {
     "name": "stdout",
     "output_type": "stream",
     "text": [
      "bobby updated successfully\n",
      "who does not exist\n"
     ]
    }
   ],
   "source": [
    "# Update the contact details\n",
    "def updateContact(Name,phone):\n",
    "    if Name in contact:\n",
    "        contact[Name] = phone\n",
    "        print(Name, \"updated successfully\")\n",
    "    else:\n",
    "        print(Name, \"does not exist\")\n",
    "    return\n",
    "updateContact('bobby',4814492063)\n",
    "updateContact('who',3910530583)"
   ]
  },
  {
   "cell_type": "code",
   "execution_count": null,
   "metadata": {},
   "outputs": [],
   "source": []
  }
 ],
 "metadata": {
  "kernelspec": {
   "display_name": "Python 3",
   "language": "python",
   "name": "python3"
  },
  "language_info": {
   "codemirror_mode": {
    "name": "ipython",
    "version": 3
   },
   "file_extension": ".py",
   "mimetype": "text/x-python",
   "name": "python",
   "nbconvert_exporter": "python",
   "pygments_lexer": "ipython3",
   "version": "3.7.3"
  }
 },
 "nbformat": 4,
 "nbformat_minor": 2
}
